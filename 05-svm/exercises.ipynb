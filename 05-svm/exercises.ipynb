{
 "cells": [
  {
   "cell_type": "markdown",
   "metadata": {
    "collapsed": true,
    "pycharm": {
     "name": "#%% md\n"
    }
   },
   "source": [
    "### 1. What is the fundamental idea behind Support Vector Machines\n",
    "The idea is to put largest possible margin between classes\n",
    "\n",
    "### 2. What is support vector?\n",
    "Support vector is a data point which lays on the margin by which it is actually describing support vector machine decision boundary\n",
    "\n",
    "### 3. Why is it important to scale the inputs when using SVMs?\n",
    "Because SVM is very sensitive to the feature scales, and can't fit good classifier to data when it's features are in different scales\n",
    "\n",
    "### 4."
   ]
  }
 ],
 "metadata": {
  "kernelspec": {
   "display_name": "Python 3",
   "language": "python",
   "name": "python3"
  },
  "language_info": {
   "codemirror_mode": {
    "name": "ipython",
    "version": 2
   },
   "file_extension": ".py",
   "mimetype": "text/x-python",
   "name": "python",
   "nbconvert_exporter": "python",
   "pygments_lexer": "ipython2",
   "version": "2.7.6"
  }
 },
 "nbformat": 4,
 "nbformat_minor": 0
}